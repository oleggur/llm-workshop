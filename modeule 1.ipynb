{
 "cells": [
  {
   "cell_type": "code",
   "execution_count": 1,
   "id": "19dd8ef2-9ba4-4ba5-9898-a3c43c94b9a3",
   "metadata": {},
   "outputs": [],
   "source": [
    "import os"
   ]
  },
  {
   "cell_type": "code",
   "execution_count": 2,
   "id": "34f1156e-0bfc-4acc-92a8-3b60ed11764f",
   "metadata": {},
   "outputs": [],
   "source": [
    "from openai import OpenAI"
   ]
  },
  {
   "cell_type": "code",
   "execution_count": 3,
   "id": "0fd08ef4-ac9f-45b7-8956-6381c04f4c50",
   "metadata": {},
   "outputs": [],
   "source": [
    "client = OpenAI()"
   ]
  },
  {
   "cell_type": "code",
   "execution_count": 11,
   "id": "53ebba32",
   "metadata": {},
   "outputs": [
    {
     "data": {
      "text/plain": [
       "'Here is a Python code snippet for making an OpenAI API request using the OpenAI library with the specified parameters:\\n\\n```python\\nimport openai\\n\\nopenai.api_key = \\'YOUR_API_KEY\\'\\n\\nresponse = openai.Completion.create(\\n  engine=\"text-davinci-003\",\\n  prompt=\"What is the capital of France?\",\\n  max_tokens=50,\\n  temperature=0.5,\\n  top_p=1,\\n  n=1\\n)\\n\\nprint(response.choices[0].text)\\n```\\n\\nMake sure to replace `\\'YOUR_API_KEY\\'` with your actual OpenAI API key. This code snippet sends a request to the OpenAI API with the question \"What is the capital of France?\" using model 3.5 and role user, and prints the API response.'"
      ]
     },
     "execution_count": 11,
     "metadata": {},
     "output_type": "execute_result"
    }
   ],
   "source": [
    "response = client.chat.completions.create(\n",
    "    model=\"gpt-3.5-turbo\",\n",
    "    messages=[\n",
    "        {\"role\": \"user\", \"content\": \"write me a python openai api request using openai library with exactly this question, model 3.5, role user. as simple as possible\"}\n",
    "    ]\n",
    ")"
   ]
  },
  {
   "cell_type": "code",
   "execution_count": 13,
   "id": "630bda6e-5625-471a-b6bd-40f88ce7a9ae",
   "metadata": {},
   "outputs": [
    {
     "data": {
      "text/plain": [
       "ChatCompletionMessage(content='Here is a Python code snippet for making an OpenAI API request using the OpenAI library with the specified parameters:\\n\\n```python\\nimport openai\\n\\nopenai.api_key = \\'YOUR_API_KEY\\'\\n\\nresponse = openai.Completion.create(\\n  engine=\"text-davinci-003\",\\n  prompt=\"What is the capital of France?\",\\n  max_tokens=50,\\n  temperature=0.5,\\n  top_p=1,\\n  n=1\\n)\\n\\nprint(response.choices[0].text)\\n```\\n\\nMake sure to replace `\\'YOUR_API_KEY\\'` with your actual OpenAI API key. This code snippet sends a request to the OpenAI API with the question \"What is the capital of France?\" using model 3.5 and role user, and prints the API response.', role='assistant', function_call=None, tool_calls=None)"
      ]
     },
     "execution_count": 13,
     "metadata": {},
     "output_type": "execute_result"
    }
   ],
   "source": [
    "response.choices[0].message"
   ]
  },
  {
   "cell_type": "code",
   "execution_count": null,
   "id": "4f2b3114-dcd4-4ca4-935c-a2bef76ccdea",
   "metadata": {},
   "outputs": [],
   "source": []
  }
 ],
 "metadata": {
  "kernelspec": {
   "display_name": "Python 3 (ipykernel)",
   "language": "python",
   "name": "python3"
  },
  "language_info": {
   "codemirror_mode": {
    "name": "ipython",
    "version": 3
   },
   "file_extension": ".py",
   "mimetype": "text/x-python",
   "name": "python",
   "nbconvert_exporter": "python",
   "pygments_lexer": "ipython3",
   "version": "3.10.13"
  }
 },
 "nbformat": 4,
 "nbformat_minor": 5
}
